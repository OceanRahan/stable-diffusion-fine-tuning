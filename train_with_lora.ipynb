from accelerate.utils import write_basic_config

write_basic_config()

!export hub_token = "your huggingface token here"

!accelerate launch --mixed_precision="fp16"  examples/text_to_image/train_text_to_image_lora.py \
  --pretrained_model_name_or_path="CompVis/stable-diffusion-v1-4" \
  --dataset_name="oceanrahan/fine-tune-data-stable-diffusion" \
  --resolution=512 --center_crop --random_flip \
  --mixed_precision="fp16" \
  --train_batch_size=1 \
  --gradient_accumulation_steps=3 \
  --gradient_checkpointing \
  --max_train_steps=500 \
  --learning_rate=1e-04 \
  --max_grad_norm=1 \
  --lr_scheduler="constant" --lr_warmup_steps=0 \
  --output_dir="lora_weights_1_4_100_1000_0.0001" \
  --hub_token=$hub_token